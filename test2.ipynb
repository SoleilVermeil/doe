{
 "cells": [
  {
   "cell_type": "code",
   "execution_count": 1,
   "metadata": {},
   "outputs": [],
   "source": [
    "import numpy as np\n",
    "import scipy.linalg\n",
    "\n",
    "def ff2n(n: int) -> np.ndarray:\n",
    "    \"\"\"\n",
    "    Returns a 2^n fractional factorial design matrix.\n",
    "\n",
    "    Parameters\n",
    "    ----------\n",
    "    n : int\n",
    "        The number of factors.\n",
    "\n",
    "    Returns\n",
    "    -------\n",
    "    np.ndarray\n",
    "        The design matrix.\n",
    "    \"\"\"\n",
    "    if n == 1:\n",
    "        return np.array([[-1], [1]])\n",
    "    else:\n",
    "        return np.append(\n",
    "            np.append(-1 * np.ones(shape=(2 ** (n - 1), 1)), ff2n(n - 1), axis=1),\n",
    "            np.append(np.ones(shape=(2 ** (n - 1), 1)), ff2n(n - 1), axis=1),\n",
    "            axis=0\n",
    "        )\n",
    "\n",
    "\n",
    "def pbdesign(n: int) -> np.ndarray:\n",
    "    \"\"\"\n",
    "    Returns a Plackett-Burman design matrix.\n",
    "\n",
    "    Parameters\n",
    "    ----------\n",
    "    n : int\n",
    "        The number of factors.\n",
    "\n",
    "    Returns\n",
    "    -------\n",
    "    np.ndarray\n",
    "        The design matrix.\n",
    "    \"\"\"\n",
    "    D = scipy.linalg.hadamard(n)[:, 1:]\n",
    "    return D[:n, :n - 1]\n"
   ]
  },
  {
   "cell_type": "code",
   "execution_count": 4,
   "metadata": {},
   "outputs": [
    {
     "data": {
      "text/plain": [
       "array([[-1., -1., -1., -1.],\n",
       "       [-1., -1., -1.,  1.],\n",
       "       [-1., -1.,  1., -1.],\n",
       "       [-1., -1.,  1.,  1.],\n",
       "       [-1.,  1., -1., -1.],\n",
       "       [-1.,  1., -1.,  1.],\n",
       "       [-1.,  1.,  1., -1.],\n",
       "       [-1.,  1.,  1.,  1.],\n",
       "       [ 1., -1., -1., -1.],\n",
       "       [ 1., -1., -1.,  1.],\n",
       "       [ 1., -1.,  1., -1.],\n",
       "       [ 1., -1.,  1.,  1.],\n",
       "       [ 1.,  1., -1., -1.],\n",
       "       [ 1.,  1., -1.,  1.],\n",
       "       [ 1.,  1.,  1., -1.],\n",
       "       [ 1.,  1.,  1.,  1.]])"
      ]
     },
     "execution_count": 4,
     "metadata": {},
     "output_type": "execute_result"
    }
   ],
   "source": [
    "ff2n(4)"
   ]
  },
  {
   "cell_type": "code",
   "execution_count": null,
   "metadata": {},
   "outputs": [],
   "source": []
  }
 ],
 "metadata": {
  "kernelspec": {
   "display_name": "base",
   "language": "python",
   "name": "python3"
  },
  "language_info": {
   "codemirror_mode": {
    "name": "ipython",
    "version": 3
   },
   "file_extension": ".py",
   "mimetype": "text/x-python",
   "name": "python",
   "nbconvert_exporter": "python",
   "pygments_lexer": "ipython3",
   "version": "3.9.13"
  },
  "orig_nbformat": 4
 },
 "nbformat": 4,
 "nbformat_minor": 2
}
