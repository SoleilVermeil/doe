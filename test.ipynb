{
 "cells": [
  {
   "cell_type": "code",
   "execution_count": null,
   "metadata": {},
   "outputs": [],
   "source": []
  },
  {
   "cell_type": "code",
   "execution_count": 207,
   "metadata": {},
   "outputs": [],
   "source": [
    "import numpy as np\n",
    "import sympy as sp\n",
    "from typing import Union"
   ]
  },
  {
   "cell_type": "code",
   "execution_count": 208,
   "metadata": {},
   "outputs": [],
   "source": [
    "def model_matrix(name: str, factors: int) -> np.ndarray:\n",
    "    \"\"\"\n",
    "    Returns a model matrix for a given model name and number of factors.\n",
    "\n",
    "    Parameters\n",
    "    ----------\n",
    "    name : str\n",
    "        The name of the model. Can be one of \"linear\", \"interaction\", \"quadratic\", \"purequadratic\".\n",
    "    factors : int\n",
    "        The number of factors.\n",
    "\n",
    "    Returns\n",
    "    -------\n",
    "    np.ndarray\n",
    "        The model matrix.\n",
    "    \"\"\"\n",
    "    constant = np.ones(shape=(1, factors))\n",
    "    linear = np.eye(N=factors)\n",
    "    interaction = np.array([x for x in sp.utilities.iterables.multiset_permutations([0] * (factors-2) + [1] * 2)])\n",
    "    quadratic = 2 * np.eye(N=factors)\n",
    "\n",
    "    if name == \"linear\":\n",
    "        return np.append(constant, linear, axis=0).astype(int)\n",
    "    elif name == \"interaction\":\n",
    "        return np.append(np.append(constant, linear, axis=0), interaction, axis=0).astype(int)\n",
    "    elif name == \"quadratic\":\n",
    "        return np.append(np.append(np.append(constant, linear, axis=0), interaction, axis=0), quadratic, axis=0).astype(int)\n",
    "    elif name == \"purequadratic\":\n",
    "        return np.append(np.append(constant, linear, axis=0), quadratic, axis=0).astype(int)\n",
    "    else:\n",
    "        raise ValueError(\"Invalid model name.\")\n",
    "    \n",
    "def x2fx(X: np.ndarray, model: Union[str, np.ndarray]) -> np.ndarray:\n",
    "    \"\"\"\n",
    "    Converts a matrix of predictors X to a design matrix D for regression analysis. Distinct predictor variables should appear in different columns of X.\n",
    "\n",
    "    Parameters\n",
    "    ----------\n",
    "    X : np.ndarray\n",
    "        The matrix of predictors.\n",
    "    model : Union[str, np.ndarray]\n",
    "        The model matrix.\n",
    "\n",
    "    Returns\n",
    "    -------\n",
    "    np.ndarray\n",
    "        The design matrix.\n",
    "    \"\"\"\n",
    "\n",
    "    if isinstance(model, str):\n",
    "        model = model_matrix(name=model, factors=X.shape[1])\n",
    "    elif isinstance(model, np.ndarray):\n",
    "        assert X.shape[1] == model.shape[1], \"The number of columns in 'X' and 'model' must be equal.\"\n",
    "\n",
    "    M = np.ones(shape=(X.shape[0], model.shape[0]))\n",
    "    for i in range(M.shape[0]):\n",
    "        for j in range(M.shape[1]):\n",
    "            for alpha in range(X.shape[1]):\n",
    "                M[i, j] *= X[i, alpha] ** model[j, alpha]\n",
    "\n",
    "    return M\n",
    "\n",
    "def fitlm(X: np.ndarray, y: np.ndarray, model: Union[str, np.ndarray]) -> np.ndarray:\n",
    "    \"\"\"\n",
    "    Returns the coefficients of a multiple linear regression model of the response y, fit to the data matrix X.\n",
    "\n",
    "    Parameters\n",
    "    ----------\n",
    "    X : np.ndarray\n",
    "        The matrix of predictors.\n",
    "    y : np.ndarray\n",
    "        The response vector.\n",
    "    model : Union[str, np.ndarray]\n",
    "        The model matrix.\n",
    "\n",
    "    Returns\n",
    "    -------\n",
    "    np.ndarray\n",
    "        The coefficients of the fitted model.\n",
    "    \"\"\"\n",
    "    XX = x2fx(X, model)\n",
    "    a, residuals, _, _ = np.linalg.lstsq(XX, y, rcond=None)\n",
    "    return a.reshape(-1)\n",
    "\n",
    "def predict(X: np.ndarray, coefficients: np.ndarray, model: Union[str, np.ndarray]) -> np.ndarray:\n",
    "    \"\"\"\n",
    "    Returns the predicted response of a multiple linear regression model with given coefficients, for the data matrix X.\n",
    "\n",
    "    Parameters\n",
    "    ----------\n",
    "    X : np.ndarray\n",
    "        The matrix of predictors.\n",
    "    a : np.ndarray\n",
    "        The coefficients of the fitted model.\n",
    "    model : Union[str, np.ndarray]\n",
    "        The model matrix.\n",
    "\n",
    "    Returns\n",
    "    -------\n",
    "    np.ndarray\n",
    "        The predicted response.\n",
    "    \"\"\"\n",
    "    if len(np.shape(X)) == 1:\n",
    "        X = X.reshape(1, -1)\n",
    "    XX = x2fx(X, model)\n",
    "    return XX @ coefficients"
   ]
  },
  {
   "cell_type": "code",
   "execution_count": 213,
   "metadata": {},
   "outputs": [],
   "source": [
    "X = np.array([\n",
    "    [2, 3, 5],\n",
    "    [1, 0, 8],\n",
    "    [7, 7, 3],\n",
    "    [1, 2, 0],\n",
    "    [4, 4, 4],\n",
    "    [9, 8, 7],\n",
    "    [0, 0, 0],\n",
    "])\n",
    "\n",
    "y = np.array([\n",
    "    2.52,\n",
    "    1.81,\n",
    "    7.29,\n",
    "    1.01,\n",
    "    4.44,\n",
    "    9.78,\n",
    "    0.01,\n",
    "]).reshape(-1, 1)\n",
    "\n",
    "mymodel = np.array([\n",
    "    [1, 0, 0],\n",
    "    [0, 1, 0],\n",
    "    [0, 0, 1],\n",
    "    [2, 0, 0],\n",
    "    [0, 1, 1],\n",
    "])\n",
    "\n",
    "XX = x2fx(X, mymodel)\n",
    "\n",
    "coefficients = fitlm(X, y, mymodel)"
   ]
  },
  {
   "cell_type": "code",
   "execution_count": 220,
   "metadata": {},
   "outputs": [],
   "source": [
    "def anova(X: np.ndarray, y: np.ndarray, model: Union[np.ndarray, str]) -> dict:\n",
    "    coefficients = fitlm(X, y, model)\n",
    "    y_pred = predict(X, coefficients, model)\n",
    "\n",
    "    ss_regression = np.sum((y_pred - np.mean(y)) ** 2)\n",
    "    ss_residual = np.sum((y - y_pred) ** 2)\n",
    "    ss_lackoffit = np.sum((np.mean(y_pred) - np.mean(y)) ** 2)\n",
    "    ss_pureerror = ss_residual - ss_lackoffit\n",
    "    ss_total = np.sum((y - np.mean(y)) ** 2)\n",
    "\n",
    "    return {\n",
    "        'ss_regression': ss_regression,\n",
    "        'ss_residual': ss_residual,\n",
    "        'ss_lackoffit': ss_lackoffit,\n",
    "        'ss_pureerror': ss_pureerror,\n",
    "        'ss_total': ss_total\n",
    "    }\n"
   ]
  },
  {
   "cell_type": "code",
   "execution_count": 221,
   "metadata": {},
   "outputs": [
    {
     "data": {
      "text/plain": [
       "{'ss_regression': 76.26889664718854,\n",
       " 'ss_residual': 1066.4922765303197,\n",
       " 'ss_lackoffit': 1.1559494516501547e-05,\n",
       " 'ss_pureerror': 1066.492264970825,\n",
       " 'ss_total': 76.08714285714285}"
      ]
     },
     "execution_count": 221,
     "metadata": {},
     "output_type": "execute_result"
    }
   ],
   "source": [
    "anova(X, y, mymodel)"
   ]
  },
  {
   "cell_type": "code",
   "execution_count": 222,
   "metadata": {},
   "outputs": [
    {
     "data": {
      "text/plain": [
       "array([[2.52],\n",
       "       [1.81],\n",
       "       [7.29],\n",
       "       [1.01],\n",
       "       [4.44],\n",
       "       [9.78],\n",
       "       [0.01]])"
      ]
     },
     "execution_count": 222,
     "metadata": {},
     "output_type": "execute_result"
    }
   ],
   "source": [
    "y"
   ]
  },
  {
   "cell_type": "code",
   "execution_count": null,
   "metadata": {},
   "outputs": [],
   "source": []
  }
 ],
 "metadata": {
  "kernelspec": {
   "display_name": "base",
   "language": "python",
   "name": "python3"
  },
  "language_info": {
   "codemirror_mode": {
    "name": "ipython",
    "version": 3
   },
   "file_extension": ".py",
   "mimetype": "text/x-python",
   "name": "python",
   "nbconvert_exporter": "python",
   "pygments_lexer": "ipython3",
   "version": "3.9.13"
  },
  "orig_nbformat": 4
 },
 "nbformat": 4,
 "nbformat_minor": 2
}
