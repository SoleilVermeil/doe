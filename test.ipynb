{
 "cells": [
  {
   "cell_type": "code",
   "execution_count": null,
   "metadata": {},
   "outputs": [],
   "source": []
  },
  {
   "cell_type": "code",
   "execution_count": 156,
   "metadata": {},
   "outputs": [],
   "source": [
    "import numpy as np\n",
    "import sympy\n",
    "import scipy\n",
    "from typing import Union\n",
    "import matplotlib.pyplot as plt\n",
    "import pandas as pd"
   ]
  },
  {
   "cell_type": "code",
   "execution_count": 157,
   "metadata": {},
   "outputs": [],
   "source": [
    "class LinearModel:\n",
    "    def __init__(self, modelspec: np.ndarray, X: np.ndarray, y: np.ndarray, coefficients: np.ndarray, residuals: np.ndarray):\n",
    "        if isinstance(modelspec, str):\n",
    "            modelspec = model_matrix(name=modelspec, factors=X.shape[1])\n",
    "        self.modelspec = modelspec\n",
    "        self.X = X\n",
    "        self.y = y\n",
    "        self.coefficients = coefficients\n",
    "        self.residuals = residuals\n",
    "\n",
    "    def predict(self, X: Union[list, np.ndarray]) -> np.ndarray:\n",
    "        \"\"\"\n",
    "        Returns the predicted response of a multiple linear regression model with given coefficients, for the data matrix X.\n",
    "\n",
    "        Parameters\n",
    "        ----------\n",
    "        X : np.ndarray\n",
    "            The matrix of predictors.\n",
    "\n",
    "        Returns\n",
    "        -------\n",
    "        np.ndarray\n",
    "            The predicted response.\n",
    "        \"\"\"\n",
    "        if isinstance(X, list):\n",
    "            X = np.array(X)\n",
    "        if len(np.shape(X)) == 1:\n",
    "            X = X.reshape(-1, 1)\n",
    "        XX = x2fx(X=X, modelspec=self.modelspec)\n",
    "        return XX @ self.coefficients\n",
    "    \n",
    "    def relative_effect(self) -> np.ndarray:\n",
    "        \"\"\"\n",
    "        Returns the relative effect of each predictor variable on the response variable.\n",
    "\n",
    "        Returns\n",
    "        -------\n",
    "        np.ndarray\n",
    "            The relative effect of each factor, normalized by the effect of the constant term.\n",
    "        \"\"\"\n",
    "        XX = x2fx(X=self.X, modelspec=self.modelspec)\n",
    "        delta = XX.max(axis=0) - XX.min(axis=0)\n",
    "        a0 = self.coefficients[0]\n",
    "        return self.coefficients[1:] * delta[1:] / a0\n",
    "    \n",
    "    def rmse(self) -> float:\n",
    "        \"\"\"\n",
    "        Returns the root mean squared error of the model.\n",
    "\n",
    "        Returns\n",
    "        -------\n",
    "        float\n",
    "            The root mean squared error of the model.\n",
    "        \"\"\"\n",
    "        return np.sqrt(np.mean((self.y - self.predict(X=self.X)) ** 2))\n",
    "    \n",
    "    def coef_names(self) -> list:\n",
    "        \"\"\"\n",
    "        Returns the names of the coefficients of a model.\n",
    "\n",
    "        Returns\n",
    "        -------\n",
    "        list\n",
    "            The names of the coefficients.\n",
    "        \"\"\"\n",
    "        names = []\n",
    "        for row in self.modelspec:\n",
    "            name = \"\"\n",
    "            for i, power in enumerate(row):\n",
    "                if power == 0:\n",
    "                    continue\n",
    "                elif power == 1:\n",
    "                    name += f\":x{i+1}\"\n",
    "                else:\n",
    "                    name += f\":x{i+1}^{power}\"\n",
    "            if name == \"\":\n",
    "                name = \":x0\"\n",
    "            names.append(name[1:])\n",
    "        return names\n",
    "        \n",
    "\n",
    "def model_matrix(name: str, factors: int) -> np.ndarray:\n",
    "    \"\"\"\n",
    "    Returns a model matrix for a given model name and number of factors.\n",
    "\n",
    "    Parameters\n",
    "    ----------\n",
    "    name : str\n",
    "        The name of the model. Can be one of \"linear\", \"interaction\", \"quadratic\", \"purequadratic\".\n",
    "    factors : int\n",
    "        The number of factors.\n",
    "\n",
    "    Returns\n",
    "    -------\n",
    "    np.ndarray\n",
    "        The model matrix.\n",
    "    \"\"\"\n",
    "    constant = np.zeros(shape=(1, factors))\n",
    "    linear = np.eye(N=factors)\n",
    "    interaction = np.array([x for x in sympy.utilities.iterables.multiset_permutations([0] * (factors-2) + [1] * 2)])[::-1]\n",
    "    quadratic = 2 * np.eye(N=factors)\n",
    "\n",
    "    if name == \"linear\":\n",
    "        return np.append(constant, linear, axis=0).astype(int)\n",
    "    elif name == \"interaction\":\n",
    "        return np.append(np.append(constant, linear, axis=0), interaction, axis=0).astype(int)\n",
    "    elif name == \"quadratic\":\n",
    "        return np.append(np.append(np.append(constant, linear, axis=0), interaction, axis=0), quadratic, axis=0).astype(int)\n",
    "    elif name == \"purequadratic\":\n",
    "        return np.append(np.append(constant, linear, axis=0), quadratic, axis=0).astype(int)\n",
    "    else:\n",
    "        raise ValueError(\"Invalid model name.\")\n",
    "    \n",
    "def x2fx(X: Union[list, np.ndarray], modelspec: Union[str, list, np.ndarray]) -> np.ndarray:\n",
    "    \"\"\"\n",
    "    Converts a matrix of predictors X to a design matrix D for regression analysis. Distinct predictor variables should appear in different columns of X.\n",
    "\n",
    "    Parameters\n",
    "    ----------\n",
    "    X : Union[list, np.ndarray]\n",
    "        The matrix of predictors.\n",
    "    model : Union[str, list, np.ndarray]\n",
    "        The model matrix.\n",
    "\n",
    "    Returns\n",
    "    -------\n",
    "    np.ndarray\n",
    "        The design matrix.\n",
    "    \"\"\"\n",
    "\n",
    "    if isinstance(X, list):\n",
    "        X = np.array(X)\n",
    "    if isinstance(modelspec, str):\n",
    "        modelspec = model_matrix(name=modelspec, factors=X.shape[1])\n",
    "    elif isinstance(modelspec, list):\n",
    "        modelspec = np.array(modelspec)\n",
    "    elif isinstance(modelspec, np.ndarray):\n",
    "        assert X.shape[1] == modelspec.shape[1], \"The number of columns in 'X' and 'model' must be equal.\"\n",
    "\n",
    "    M = np.ones(shape=(X.shape[0], modelspec.shape[0]))\n",
    "    for i in range(M.shape[0]):\n",
    "        for j in range(M.shape[1]):\n",
    "            for alpha in range(X.shape[1]):\n",
    "                M[i, j] *= X[i, alpha] ** modelspec[j, alpha]\n",
    "\n",
    "    return M\n",
    "\n",
    "def fitlm(X: Union[list, np.ndarray], y: Union[list, np.ndarray], modelspec: Union[str, list, np.ndarray] = \"linear\") -> LinearModel:\n",
    "    \"\"\"\n",
    "    Returns the linear model fit to the data matrix X.\n",
    "\n",
    "    Parameters\n",
    "    ----------\n",
    "    X : Union[list, np.ndarray]\n",
    "        The matrix of inputs.\n",
    "    y : Union[list, np.ndarray]\n",
    "        The response vector.\n",
    "    modelspec : Union[str, list, np.ndarray]\n",
    "        The model matrix.\n",
    "\n",
    "    Returns\n",
    "    -------\n",
    "    LinearModel\n",
    "        The fitted linear model.\n",
    "    \"\"\"\n",
    "    if isinstance(X, list):\n",
    "        X = np.array(X)\n",
    "    if isinstance(y, list):\n",
    "        y = np.array(y).reshape(-1, 1)\n",
    "    XX = x2fx(X, modelspec)\n",
    "    coefficients, residuals, _, _ = np.linalg.lstsq(XX, y, rcond=None)\n",
    "    coefficients = coefficients.reshape(-1)\n",
    "    return LinearModel(modelspec=modelspec, X=X, y=y, coefficients=coefficients, residuals=residuals)"
   ]
  },
  {
   "cell_type": "code",
   "execution_count": 158,
   "metadata": {},
   "outputs": [],
   "source": [
    "X = pd.read_csv(\"data.csv\", sep=\";\", decimal=\",\").values[:, :-1]\n",
    "\n",
    "y = pd.read_csv(\"data.csv\", sep=\";\", decimal=\",\").values[:, -1]\n",
    "\n",
    "model = fitlm(X, y, \"quadratic\")"
   ]
  },
  {
   "cell_type": "code",
   "execution_count": 159,
   "metadata": {},
   "outputs": [
    {
     "data": {
      "image/png": "[encoded data removed]",
      "text/plain": [
       "<Figure size 400x400 with 1 Axes>"
      ]
     },
     "metadata": {},
     "output_type": "display_data"
    }
   ],
   "source": [
    "y_pred = model.predict(np.array(X))\n",
    "\n",
    "plt.figure(figsize=(4, 4), dpi=100)\n",
    "plt.plot(y, y_pred, \"o\")\n",
    "plt.xlabel(\"True values\")\n",
    "plt.ylabel(\"Predicted values\")\n",
    "plt.show()"
   ]
  },
  {
   "cell_type": "code",
   "execution_count": 160,
   "metadata": {},
   "outputs": [
    {
     "data": {
      "image/png": "[encoded data removed]",
      "text/plain": [
       "<Figure size 400x400 with 1 Axes>"
      ]
     },
     "metadata": {},
     "output_type": "display_data"
    }
   ],
   "source": [
    "plt.figure(figsize=(4, 4), dpi=100)\n",
    "x_to_plot = np.arange(start=1, stop=len(model.coefficients))\n",
    "y_to_plot = model.relative_effect()\n",
    "plt.bar(x_to_plot[y_to_plot>0], y_to_plot[y_to_plot>0], color=\"b\", label=\"Positive effects\")\n",
    "plt.bar(x_to_plot[y_to_plot<0], -y_to_plot[y_to_plot<0], color=\"y\", label=\"Negative effects\")\n",
    "plt.axhline(y=1*model.rmse() / model.coefficients[0], color=\"red\", linestyle=\":\", label=\"$1\\\\sigma=$RMSE\")\n",
    "plt.axhline(y=2*model.rmse() / model.coefficients[0], color=\"red\", linestyle=\"-.\", label=\"$2\\\\sigma$\")\n",
    "plt.axhline(y=3*model.rmse() / model.coefficients[0], color=\"red\", linestyle=\"--\", label=\"$3\\\\sigma$\")\n",
    "plt.xticks(ticks=x_to_plot, labels=[f\"${name}$\" for name in model.coef_names()[1:]], rotation=90)\n",
    "plt.legend()\n",
    "plt.ylabel(\"$a_i / a_0$\")\n",
    "plt.show()"
   ]
  },
  {
   "cell_type": "code",
   "execution_count": 161,
   "metadata": {},
   "outputs": [
    {
     "data": {
      "text/plain": [
       "array([1.1729267])"
      ]
     },
     "execution_count": 161,
     "metadata": {},
     "output_type": "execute_result"
    }
   ],
   "source": [
    "model.residuals"
   ]
  }
 ],
 "metadata": {
  "kernelspec": {
   "display_name": "base",
   "language": "python",
   "name": "python3"
  },
  "language_info": {
   "codemirror_mode": {
    "name": "ipython",
    "version": 3
   },
   "file_extension": ".py",
   "mimetype": "text/x-python",
   "name": "python",
   "nbconvert_exporter": "python",
   "pygments_lexer": "ipython3",
   "version": "3.9.13"
  },
  "orig_nbformat": 4
 },
 "nbformat": 4,
 "nbformat_minor": 2
}
