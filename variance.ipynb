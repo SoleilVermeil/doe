{
 "cells": [
  {
   "cell_type": "code",
   "execution_count": 1,
   "metadata": {},
   "outputs": [],
   "source": [
    "import doe\n",
    "import numpy as np\n",
    "import matplotlib.pyplot as plt"
   ]
  },
  {
   "cell_type": "code",
   "execution_count": 2,
   "metadata": {},
   "outputs": [],
   "source": [
    "modelspec = doe.model_matrix(name=\"linear\", factors=6)\n",
    "matrix_of_essais = doe.fracfact(\"A B C D ABC BCD\")\n",
    "X = doe.x2fx(X=matrix_of_essais, modelspec=modelspec)"
   ]
  },
  {
   "attachments": {},
   "cell_type": "markdown",
   "metadata": {},
   "source": [
    "Suppose the true model is $y=2+x_1-x_2+2x_4$."
   ]
  },
  {
   "cell_type": "code",
   "execution_count": 5,
   "metadata": {},
   "outputs": [],
   "source": [
    "y = 2 + matrix_of_essais[:,0] -  matrix_of_essais[:,1] + 2 *  matrix_of_essais[:,3] + np.random.normal(0, 1, size=(matrix_of_essais.shape[0]))\n",
    "linearmodel = doe.fitlm(X=matrix_of_essais, y=y, modelspec=modelspec)"
   ]
  },
  {
   "cell_type": "code",
   "execution_count": 9,
   "metadata": {},
   "outputs": [
    {
     "data": {
      "text/plain": [
       "<matplotlib.legend.Legend at 0x23866b75bb0>"
      ]
     },
     "execution_count": 9,
     "metadata": {},
     "output_type": "execute_result"
    },
    {
     "data": {
      "image/png": "[encoded data removed]",
      "text/plain": [
       "<Figure size 640x480 with 1 Axes>"
      ]
     },
     "metadata": {},
     "output_type": "display_data"
    }
   ],
   "source": [
    "coefs = linearmodel.coefficients\n",
    "coefs_names = linearmodel.coef_names()\n",
    "\n",
    "# Computing confidence intervals\n",
    "\n",
    "y_true = y\n",
    "y_pred = linearmodel.predict(X=matrix_of_essais)\n",
    "residues = np.abs(y_true - y_pred)\n",
    "N = np.shape(matrix_of_essais)[0]\n",
    "P = np.shape(matrix_of_essais)[1]\n",
    "s_squared = (residues.T @ residues) / (N - P)\n",
    "D = np.linalg.inv(X.T @ X)\n",
    "var_a = D @ np.ones(np.shape(D)[0]) * s_squared\n",
    "beta = 0.95\n",
    "alpha = 1 - beta\n",
    "confidence_interval = doe.t(confidence=alpha/2, dof=N-P) * np.sqrt(np.diag(D) * s_squared)\n",
    "\n",
    "plt.bar(coefs_names, coefs, label=\"Estimation\")\n",
    "plt.errorbar(x=coefs_names, y=coefs, yerr=confidence_interval, fmt=\"k,\",)\n",
    "plt.bar(coefs_names, [2, 1, -1, 0, 2, 0, 0], label=\"True\", alpha=1, width=0.3)\n",
    "plt.title(\"Coefficients of the linear model\")\n",
    "plt.legend()"
   ]
  },
  {
   "cell_type": "code",
   "execution_count": 173,
   "metadata": {},
   "outputs": [
    {
     "data": {
      "text/plain": [
       "array([-0.65146006, -0.65146006, -0.65146006, -0.65146006, -0.65146006,\n",
       "       -0.65146006, -0.65146006])"
      ]
     },
     "execution_count": 173,
     "metadata": {},
     "output_type": "execute_result"
    }
   ],
   "source": [
    "confidence_interval"
   ]
  },
  {
   "cell_type": "code",
   "execution_count": 125,
   "metadata": {},
   "outputs": [],
   "source": [
    "model_matrix = [\n",
    "    [1, 0.04, 0.4,-20],\n",
    "    [1, 0.04, 0.4,  0],\n",
    "    [1, 0.04, 0.4, 20],\n",
    "    [1, 0.04, 0.8,  0],\n",
    "    [1, 0.05, 0.6,  0],\n",
    "    [1, 0.06, 0.4,  0],\n",
    "    [1, 0.06, 0.8,  0],\n",
    "    [1, 0.06, 0.8,  0],\n",
    "    [1, 0.06, 0.8, 20],\n",
    "]\n",
    "model_matrix = np.array(model_matrix)[:,1:]\n",
    "\n",
    "X = doe.x2fx(model_matrix, \"linear\")\n",
    "\n",
    "y = [\n",
    "    210.31,\n",
    "    210.37,\n",
    "    210.28,\n",
    "    210.18,\n",
    "    210.31,\n",
    "    210.81,\n",
    "    210.70,\n",
    "    210.58,\n",
    "    210.67,\n",
    "]\n",
    "\n",
    "linearmodel = doe.fitlm(X=model_matrix, y=y, modelspec=\"linear\")\n",
    "coefficients = linearmodel.coefficients\n",
    "\n",
    "differential = np.max(model_matrix, axis=0) - np.min(model_matrix, axis=0)\n",
    "\n",
    "coefficients[1:] * differential * 2"
   ]
  }
 ],
 "metadata": {
  "kernelspec": {
   "display_name": "base",
   "language": "python",
   "name": "python3"
  },
  "language_info": {
   "codemirror_mode": {
    "name": "ipython",
    "version": 3
   },
   "file_extension": ".py",
   "mimetype": "text/x-python",
   "name": "python",
   "nbconvert_exporter": "python",
   "pygments_lexer": "ipython3",
   "version": "3.9.13"
  },
  "orig_nbformat": 4
 },
 "nbformat": 4,
 "nbformat_minor": 2
}
